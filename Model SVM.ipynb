{
 "cells": [
  {
   "cell_type": "markdown",
   "metadata": {},
   "source": [
    "# Predicting Buying Session - Building Final Model"
   ]
  },
  {
   "cell_type": "code",
   "execution_count": 1,
   "metadata": {
    "ExecuteTime": {
     "end_time": "2020-06-17T11:16:36.726697Z",
     "start_time": "2020-06-17T11:16:34.898828Z"
    }
   },
   "outputs": [],
   "source": [
    "import numpy as np\n",
    "import pandas as pd\n",
    "\n",
    "import matplotlib.pyplot as plt\n",
    "plt.style.use('fivethirtyeight')\n",
    "%matplotlib inline\n",
    "import seaborn as sns"
   ]
  },
  {
   "cell_type": "code",
   "execution_count": 2,
   "metadata": {
    "ExecuteTime": {
     "end_time": "2020-06-17T11:16:40.692724Z",
     "start_time": "2020-06-17T11:16:36.728696Z"
    }
   },
   "outputs": [],
   "source": [
    "from sklearn.preprocessing import OneHotEncoder, LabelEncoder\n",
    "from sklearn.preprocessing import RobustScaler\n",
    "from sklearn.model_selection import train_test_split\n",
    "from sklearn.svm import SVC\n",
    "from sklearn.metrics import confusion_matrix, classification_report\n",
    "from imblearn.over_sampling import SMOTE\n",
    "from sklearn.model_selection import cross_val_score\n",
    "import joblib"
   ]
  },
  {
   "cell_type": "code",
   "execution_count": 3,
   "metadata": {
    "ExecuteTime": {
     "end_time": "2020-06-17T11:16:40.739695Z",
     "start_time": "2020-06-17T11:16:40.695723Z"
    }
   },
   "outputs": [],
   "source": [
    "df = pd.read_csv('online_shoppers_intention.csv')"
   ]
  },
  {
   "cell_type": "code",
   "execution_count": 4,
   "metadata": {
    "ExecuteTime": {
     "end_time": "2020-06-17T11:16:41.146446Z",
     "start_time": "2020-06-17T11:16:40.741694Z"
    }
   },
   "outputs": [
    {
     "name": "stdout",
     "output_type": "stream",
     "text": [
      "Month encoded\n",
      "OperatingSystems encoded\n",
      "Browser encoded\n",
      "Region encoded\n",
      "TrafficType encoded\n",
      "VisitorType encoded\n"
     ]
    }
   ],
   "source": [
    "onehot = OneHotEncoder()\n",
    "for feat in ['Month', 'OperatingSystems', 'Browser', 'Region',\n",
    "             'TrafficType', 'VisitorType']:\n",
    "    onehotvalue = onehot.fit_transform(df[feat].values.reshape(-1,1)).toarray()\n",
    "    onehotcols = pd.DataFrame(onehotvalue, columns = [\n",
    "        feat + '_' + str(onehot.categories_[0][i])\n",
    "        for i in range(len(onehot.categories_[0]))\n",
    "    ])\n",
    "    df = pd.concat([df, onehotcols], axis = 1)\n",
    "    print(f'{feat} encoded')\n",
    "    df = df.drop(columns=feat)"
   ]
  },
  {
   "cell_type": "code",
   "execution_count": 5,
   "metadata": {
    "ExecuteTime": {
     "end_time": "2020-06-17T11:16:41.162435Z",
     "start_time": "2020-06-17T11:16:41.148442Z"
    }
   },
   "outputs": [
    {
     "name": "stdout",
     "output_type": "stream",
     "text": [
      "{0: False, 1: True}\n",
      "Weekend encoded\n",
      "{0: False, 1: True}\n",
      "Revenue encoded\n"
     ]
    }
   ],
   "source": [
    "label_encoder = LabelEncoder()\n",
    "for column in ['Weekend', 'Revenue']:\n",
    "    df[column] = label_encoder.fit_transform(df[column])\n",
    "    print({index: label for index, label in enumerate(label_encoder.classes_)})\n",
    "    print(f'{column} encoded')"
   ]
  },
  {
   "cell_type": "code",
   "execution_count": 6,
   "metadata": {
    "ExecuteTime": {
     "end_time": "2020-06-17T11:16:42.965320Z",
     "start_time": "2020-06-17T11:16:41.165434Z"
    }
   },
   "outputs": [
    {
     "data": {
      "text/plain": [
       "(12330, 17)"
      ]
     },
     "execution_count": 6,
     "metadata": {},
     "output_type": "execute_result"
    }
   ],
   "source": [
    "df = df[['Revenue',\n",
    "         'Administrative_Duration',\n",
    "         'Informational_Duration',\n",
    "         'ProductRelated_Duration',\n",
    "         'BounceRates',\n",
    "         'PageValues',\n",
    "         'SpecialDay',\n",
    "         'Month_Mar',\n",
    "         'Month_May',\n",
    "         'Month_Nov',\n",
    "         'OperatingSystems_3',\n",
    "         'TrafficType_1',\n",
    "         'TrafficType_2',\n",
    "         'TrafficType_3',\n",
    "         'TrafficType_13',\n",
    "         'VisitorType_New_Visitor',\n",
    "         'VisitorType_Returning_Visitor'\n",
    "         ]]\n",
    "df.shape"
   ]
  },
  {
   "cell_type": "code",
   "execution_count": 7,
   "metadata": {
    "ExecuteTime": {
     "end_time": "2020-06-17T11:16:43.092240Z",
     "start_time": "2020-06-17T11:16:42.968317Z"
    }
   },
   "outputs": [],
   "source": [
    "num_feats = ['Administrative_Duration',\n",
    "             'Informational_Duration',\n",
    "             'ProductRelated_Duration',\n",
    "             'BounceRates',\n",
    "             'PageValues',\n",
    "             'SpecialDay']"
   ]
  },
  {
   "cell_type": "code",
   "execution_count": 8,
   "metadata": {
    "ExecuteTime": {
     "end_time": "2020-06-17T11:16:43.342088Z",
     "start_time": "2020-06-17T11:16:43.095238Z"
    }
   },
   "outputs": [
    {
     "data": {
      "text/html": [
       "<div>\n",
       "<style scoped>\n",
       "    .dataframe tbody tr th:only-of-type {\n",
       "        vertical-align: middle;\n",
       "    }\n",
       "\n",
       "    .dataframe tbody tr th {\n",
       "        vertical-align: top;\n",
       "    }\n",
       "\n",
       "    .dataframe thead th {\n",
       "        text-align: right;\n",
       "    }\n",
       "</style>\n",
       "<table border=\"1\" class=\"dataframe\">\n",
       "  <thead>\n",
       "    <tr style=\"text-align: right;\">\n",
       "      <th></th>\n",
       "      <th>Administrative_Duration</th>\n",
       "      <th>Informational_Duration</th>\n",
       "      <th>ProductRelated_Duration</th>\n",
       "      <th>BounceRates</th>\n",
       "      <th>PageValues</th>\n",
       "      <th>SpecialDay</th>\n",
       "      <th>Revenue</th>\n",
       "      <th>Month_Mar</th>\n",
       "      <th>Month_May</th>\n",
       "      <th>Month_Nov</th>\n",
       "      <th>OperatingSystems_3</th>\n",
       "      <th>TrafficType_1</th>\n",
       "      <th>TrafficType_2</th>\n",
       "      <th>TrafficType_3</th>\n",
       "      <th>TrafficType_13</th>\n",
       "      <th>VisitorType_New_Visitor</th>\n",
       "      <th>VisitorType_Returning_Visitor</th>\n",
       "    </tr>\n",
       "  </thead>\n",
       "  <tbody>\n",
       "    <tr>\n",
       "      <th>count</th>\n",
       "      <td>12330.000000</td>\n",
       "      <td>12330.000000</td>\n",
       "      <td>1.233000e+04</td>\n",
       "      <td>12330.000000</td>\n",
       "      <td>12330.000000</td>\n",
       "      <td>12330.000000</td>\n",
       "      <td>12330.000000</td>\n",
       "      <td>12330.000000</td>\n",
       "      <td>12330.000000</td>\n",
       "      <td>12330.000000</td>\n",
       "      <td>12330.000000</td>\n",
       "      <td>12330.000000</td>\n",
       "      <td>12330.000000</td>\n",
       "      <td>12330.000000</td>\n",
       "      <td>12330.000000</td>\n",
       "      <td>12330.000000</td>\n",
       "      <td>12330.000000</td>\n",
       "    </tr>\n",
       "    <tr>\n",
       "      <th>mean</th>\n",
       "      <td>0.786206</td>\n",
       "      <td>34.472398</td>\n",
       "      <td>4.654689e-01</td>\n",
       "      <td>1.134801</td>\n",
       "      <td>5.889258</td>\n",
       "      <td>0.061427</td>\n",
       "      <td>0.154745</td>\n",
       "      <td>0.154663</td>\n",
       "      <td>0.272830</td>\n",
       "      <td>0.243147</td>\n",
       "      <td>0.207218</td>\n",
       "      <td>0.198783</td>\n",
       "      <td>0.317356</td>\n",
       "      <td>0.166423</td>\n",
       "      <td>0.059854</td>\n",
       "      <td>0.137388</td>\n",
       "      <td>0.855718</td>\n",
       "    </tr>\n",
       "    <tr>\n",
       "      <th>std</th>\n",
       "      <td>1.895627</td>\n",
       "      <td>140.749294</td>\n",
       "      <td>1.495031e+00</td>\n",
       "      <td>2.884054</td>\n",
       "      <td>18.568437</td>\n",
       "      <td>0.198917</td>\n",
       "      <td>0.361676</td>\n",
       "      <td>0.361598</td>\n",
       "      <td>0.445432</td>\n",
       "      <td>0.429000</td>\n",
       "      <td>0.405330</td>\n",
       "      <td>0.399101</td>\n",
       "      <td>0.465466</td>\n",
       "      <td>0.372475</td>\n",
       "      <td>0.237226</td>\n",
       "      <td>0.344271</td>\n",
       "      <td>0.351390</td>\n",
       "    </tr>\n",
       "    <tr>\n",
       "      <th>min</th>\n",
       "      <td>-0.080424</td>\n",
       "      <td>0.000000</td>\n",
       "      <td>-4.679123e-01</td>\n",
       "      <td>-0.185128</td>\n",
       "      <td>0.000000</td>\n",
       "      <td>0.000000</td>\n",
       "      <td>0.000000</td>\n",
       "      <td>0.000000</td>\n",
       "      <td>0.000000</td>\n",
       "      <td>0.000000</td>\n",
       "      <td>0.000000</td>\n",
       "      <td>0.000000</td>\n",
       "      <td>0.000000</td>\n",
       "      <td>0.000000</td>\n",
       "      <td>0.000000</td>\n",
       "      <td>0.000000</td>\n",
       "      <td>0.000000</td>\n",
       "    </tr>\n",
       "    <tr>\n",
       "      <th>25%</th>\n",
       "      <td>-0.080424</td>\n",
       "      <td>0.000000</td>\n",
       "      <td>-3.240570e-01</td>\n",
       "      <td>-0.185128</td>\n",
       "      <td>0.000000</td>\n",
       "      <td>0.000000</td>\n",
       "      <td>0.000000</td>\n",
       "      <td>0.000000</td>\n",
       "      <td>0.000000</td>\n",
       "      <td>0.000000</td>\n",
       "      <td>0.000000</td>\n",
       "      <td>0.000000</td>\n",
       "      <td>0.000000</td>\n",
       "      <td>0.000000</td>\n",
       "      <td>0.000000</td>\n",
       "      <td>0.000000</td>\n",
       "      <td>1.000000</td>\n",
       "    </tr>\n",
       "    <tr>\n",
       "      <th>50%</th>\n",
       "      <td>0.000000</td>\n",
       "      <td>0.000000</td>\n",
       "      <td>4.440824e-17</td>\n",
       "      <td>0.000000</td>\n",
       "      <td>0.000000</td>\n",
       "      <td>0.000000</td>\n",
       "      <td>0.000000</td>\n",
       "      <td>0.000000</td>\n",
       "      <td>0.000000</td>\n",
       "      <td>0.000000</td>\n",
       "      <td>0.000000</td>\n",
       "      <td>0.000000</td>\n",
       "      <td>0.000000</td>\n",
       "      <td>0.000000</td>\n",
       "      <td>0.000000</td>\n",
       "      <td>0.000000</td>\n",
       "      <td>1.000000</td>\n",
       "    </tr>\n",
       "    <tr>\n",
       "      <th>75%</th>\n",
       "      <td>0.919576</td>\n",
       "      <td>0.000000</td>\n",
       "      <td>6.759430e-01</td>\n",
       "      <td>0.814872</td>\n",
       "      <td>0.000000</td>\n",
       "      <td>0.000000</td>\n",
       "      <td>0.000000</td>\n",
       "      <td>0.000000</td>\n",
       "      <td>1.000000</td>\n",
       "      <td>0.000000</td>\n",
       "      <td>0.000000</td>\n",
       "      <td>0.000000</td>\n",
       "      <td>1.000000</td>\n",
       "      <td>0.000000</td>\n",
       "      <td>0.000000</td>\n",
       "      <td>0.000000</td>\n",
       "      <td>1.000000</td>\n",
       "    </tr>\n",
       "    <tr>\n",
       "      <th>max</th>\n",
       "      <td>36.364855</td>\n",
       "      <td>2549.375000</td>\n",
       "      <td>4.951063e+01</td>\n",
       "      <td>11.710742</td>\n",
       "      <td>361.763742</td>\n",
       "      <td>1.000000</td>\n",
       "      <td>1.000000</td>\n",
       "      <td>1.000000</td>\n",
       "      <td>1.000000</td>\n",
       "      <td>1.000000</td>\n",
       "      <td>1.000000</td>\n",
       "      <td>1.000000</td>\n",
       "      <td>1.000000</td>\n",
       "      <td>1.000000</td>\n",
       "      <td>1.000000</td>\n",
       "      <td>1.000000</td>\n",
       "      <td>1.000000</td>\n",
       "    </tr>\n",
       "  </tbody>\n",
       "</table>\n",
       "</div>"
      ],
      "text/plain": [
       "       Administrative_Duration  Informational_Duration  \\\n",
       "count             12330.000000            12330.000000   \n",
       "mean                  0.786206               34.472398   \n",
       "std                   1.895627              140.749294   \n",
       "min                  -0.080424                0.000000   \n",
       "25%                  -0.080424                0.000000   \n",
       "50%                   0.000000                0.000000   \n",
       "75%                   0.919576                0.000000   \n",
       "max                  36.364855             2549.375000   \n",
       "\n",
       "       ProductRelated_Duration   BounceRates    PageValues    SpecialDay  \\\n",
       "count             1.233000e+04  12330.000000  12330.000000  12330.000000   \n",
       "mean              4.654689e-01      1.134801      5.889258      0.061427   \n",
       "std               1.495031e+00      2.884054     18.568437      0.198917   \n",
       "min              -4.679123e-01     -0.185128      0.000000      0.000000   \n",
       "25%              -3.240570e-01     -0.185128      0.000000      0.000000   \n",
       "50%               4.440824e-17      0.000000      0.000000      0.000000   \n",
       "75%               6.759430e-01      0.814872      0.000000      0.000000   \n",
       "max               4.951063e+01     11.710742    361.763742      1.000000   \n",
       "\n",
       "            Revenue     Month_Mar     Month_May     Month_Nov  \\\n",
       "count  12330.000000  12330.000000  12330.000000  12330.000000   \n",
       "mean       0.154745      0.154663      0.272830      0.243147   \n",
       "std        0.361676      0.361598      0.445432      0.429000   \n",
       "min        0.000000      0.000000      0.000000      0.000000   \n",
       "25%        0.000000      0.000000      0.000000      0.000000   \n",
       "50%        0.000000      0.000000      0.000000      0.000000   \n",
       "75%        0.000000      0.000000      1.000000      0.000000   \n",
       "max        1.000000      1.000000      1.000000      1.000000   \n",
       "\n",
       "       OperatingSystems_3  TrafficType_1  TrafficType_2  TrafficType_3  \\\n",
       "count        12330.000000   12330.000000   12330.000000   12330.000000   \n",
       "mean             0.207218       0.198783       0.317356       0.166423   \n",
       "std              0.405330       0.399101       0.465466       0.372475   \n",
       "min              0.000000       0.000000       0.000000       0.000000   \n",
       "25%              0.000000       0.000000       0.000000       0.000000   \n",
       "50%              0.000000       0.000000       0.000000       0.000000   \n",
       "75%              0.000000       0.000000       1.000000       0.000000   \n",
       "max              1.000000       1.000000       1.000000       1.000000   \n",
       "\n",
       "       TrafficType_13  VisitorType_New_Visitor  VisitorType_Returning_Visitor  \n",
       "count    12330.000000             12330.000000                   12330.000000  \n",
       "mean         0.059854                 0.137388                       0.855718  \n",
       "std          0.237226                 0.344271                       0.351390  \n",
       "min          0.000000                 0.000000                       0.000000  \n",
       "25%          0.000000                 0.000000                       1.000000  \n",
       "50%          0.000000                 0.000000                       1.000000  \n",
       "75%          0.000000                 0.000000                       1.000000  \n",
       "max          1.000000                 1.000000                       1.000000  "
      ]
     },
     "execution_count": 8,
     "metadata": {},
     "output_type": "execute_result"
    }
   ],
   "source": [
    "robust = RobustScaler()\n",
    "df_robust = pd.DataFrame(robust.fit_transform(df[num_feats]), columns=num_feats)\n",
    "df_robust = pd.concat([df_robust, df.drop(columns=num_feats)], axis=1)\n",
    "df_robust.describe()"
   ]
  },
  {
   "cell_type": "code",
   "execution_count": 9,
   "metadata": {
    "ExecuteTime": {
     "end_time": "2020-06-17T11:16:43.374067Z",
     "start_time": "2020-06-17T11:16:43.345087Z"
    }
   },
   "outputs": [
    {
     "name": "stdout",
     "output_type": "stream",
     "text": [
      "(9864, 16)\n",
      "(2466, 16)\n",
      "(9864,)\n",
      "(2466,)\n"
     ]
    }
   ],
   "source": [
    "X_rob = df_robust.drop(columns='Revenue')\n",
    "y_rob = df_robust['Revenue']\n",
    "\n",
    "x_train_rob, x_test_rob, y_train_rob, y_test_rob = train_test_split(X_rob, y_rob, test_size = 0.20)\n",
    "\n",
    "for data in [x_train_rob, x_test_rob, y_train_rob, y_test_rob]:\n",
    "    print(data.shape)"
   ]
  },
  {
   "cell_type": "code",
   "execution_count": 10,
   "metadata": {
    "ExecuteTime": {
     "end_time": "2020-06-17T11:16:43.515979Z",
     "start_time": "2020-06-17T11:16:43.377064Z"
    }
   },
   "outputs": [
    {
     "data": {
      "text/plain": [
       "Index(['Administrative_Duration', 'Informational_Duration',\n",
       "       'ProductRelated_Duration', 'BounceRates', 'PageValues', 'SpecialDay',\n",
       "       'Month_Mar', 'Month_May', 'Month_Nov', 'OperatingSystems_3',\n",
       "       'TrafficType_1', 'TrafficType_2', 'TrafficType_3', 'TrafficType_13',\n",
       "       'VisitorType_New_Visitor', 'VisitorType_Returning_Visitor'],\n",
       "      dtype='object')"
      ]
     },
     "execution_count": 10,
     "metadata": {},
     "output_type": "execute_result"
    }
   ],
   "source": [
    "x_train_rob.columns"
   ]
  },
  {
   "cell_type": "code",
   "execution_count": 11,
   "metadata": {
    "ExecuteTime": {
     "end_time": "2020-06-17T11:16:44.207550Z",
     "start_time": "2020-06-17T11:16:43.517978Z"
    }
   },
   "outputs": [],
   "source": [
    "sm = SMOTE() \n",
    "x_train_rob_sm, y_train_rob_sm = sm.fit_sample(x_train_rob, y_train_rob) "
   ]
  },
  {
   "cell_type": "code",
   "execution_count": 12,
   "metadata": {
    "ExecuteTime": {
     "end_time": "2020-06-17T11:17:07.228309Z",
     "start_time": "2020-06-17T11:16:44.209549Z"
    },
    "scrolled": false
   },
   "outputs": [
    {
     "name": "stdout",
     "output_type": "stream",
     "text": [
      "Train score: 89.3%\n",
      "Test score: 85.52%\n",
      "\n",
      "              precision    recall  f1-score   support\n",
      "\n",
      "           0       0.95      0.87      0.91      2080\n",
      "           1       0.53      0.77      0.63       386\n",
      "\n",
      "    accuracy                           0.86      2466\n",
      "   macro avg       0.74      0.82      0.77      2466\n",
      "weighted avg       0.89      0.86      0.87      2466\n",
      "\n"
     ]
    },
    {
     "data": {
      "image/png": "[encoded data removed]",
      "text/plain": [
       "<Figure size 432x288 with 2 Axes>"
      ]
     },
     "metadata": {
      "needs_background": "light"
     },
     "output_type": "display_data"
    }
   ],
   "source": [
    "model_svm = SVC(kernel='rbf', \n",
    "                 C=1.0,\n",
    "                 gamma='auto',\n",
    "                )\n",
    "model_svm.fit(x_train_rob_sm, y_train_rob_sm)\n",
    "y_pred_rob_sm = model_svm.predict(x_test_rob)\n",
    "\n",
    "print(f'Train score: {round(model_svm.score(x_train_rob_sm, y_train_rob_sm)*100, 2)}%')\n",
    "print(f'Test score: {round(model_svm.score(x_test_rob, y_test_rob)*100, 2)}%\\n')\n",
    "\n",
    "print(classification_report(y_test_rob, y_pred_rob_sm))\n",
    "\n",
    "cm = confusion_matrix(y_test_rob, y_pred_rob_sm)\n",
    "\n",
    "sns.heatmap(cm, annot=True, fmt=\".3f\", linewidths=.5, square = True, cmap = 'Blues_r')\n",
    "plt.xlabel('Predicted class')\n",
    "plt.ylabel('Actual class')\n",
    "plt.title('Test Confusion Matrix', size = 15)\n",
    "plt.show()"
   ]
  },
  {
   "cell_type": "code",
   "execution_count": 13,
   "metadata": {
    "ExecuteTime": {
     "end_time": "2020-06-17T11:18:35.731073Z",
     "start_time": "2020-06-17T11:17:07.230308Z"
    }
   },
   "outputs": [
    {
     "data": {
      "text/plain": [
       "array([0.86099461, 0.85200719, 0.87110312, 0.85371703, 0.85371703])"
      ]
     },
     "execution_count": 13,
     "metadata": {},
     "output_type": "execute_result"
    }
   ],
   "source": [
    "cv_svm = cross_val_score(estimator=model_svm,\n",
    "                         X=x_train_rob_sm,\n",
    "                         y=y_train_rob_sm,\n",
    "                         # The recall is the ratio tp / (tp + fn)\n",
    "                         scoring='recall',\n",
    "                         n_jobs=-1,\n",
    "                         # For int/None inputs, if the estimator is a classifier and y is either binary or multiclass, StratifiedKFold is used. In all other cases, KFold is used.\n",
    "                         cv=5\n",
    "                         )\n",
    "cv_svm"
   ]
  },
  {
   "cell_type": "code",
   "execution_count": 14,
   "metadata": {
    "ExecuteTime": {
     "end_time": "2020-06-17T11:18:35.746064Z",
     "start_time": "2020-06-17T11:18:35.733073Z"
    }
   },
   "outputs": [
    {
     "name": "stdout",
     "output_type": "stream",
     "text": [
      "0.8583077935494625\n",
      "0.007110375193613171\n"
     ]
    }
   ],
   "source": [
    "print(cv_svm.mean())\n",
    "print(cv_svm.std())"
   ]
  },
  {
   "cell_type": "code",
   "execution_count": 15,
   "metadata": {
    "ExecuteTime": {
     "end_time": "2020-06-17T11:19:26.671055Z",
     "start_time": "2020-06-17T11:18:35.749062Z"
    }
   },
   "outputs": [
    {
     "data": {
      "text/plain": [
       "array([0.47120419, 0.58638743, 0.5       , 0.37270341, 0.42782152])"
      ]
     },
     "execution_count": 15,
     "metadata": {},
     "output_type": "execute_result"
    }
   ],
   "source": [
    "cv_svm = cross_val_score(estimator=model_svm,\n",
    "                         X=X_rob,\n",
    "                         y=y_rob,\n",
    "                         # The recall is the ratio tp / (tp + fn)\n",
    "                         scoring='recall',\n",
    "                         n_jobs=-1,\n",
    "                         # For int/None inputs, if the estimator is a classifier and y is either binary or multiclass, StratifiedKFold is used. In all other cases, KFold is used.\n",
    "                         cv=5\n",
    "                         )\n",
    "cv_svm"
   ]
  },
  {
   "cell_type": "code",
   "execution_count": 16,
   "metadata": {
    "ExecuteTime": {
     "end_time": "2020-06-17T11:19:26.686045Z",
     "start_time": "2020-06-17T11:19:26.673055Z"
    }
   },
   "outputs": [
    {
     "name": "stdout",
     "output_type": "stream",
     "text": [
      "0.4716233114839703\n",
      "0.07166583466859068\n"
     ]
    }
   ],
   "source": [
    "print(cv_svm.mean())\n",
    "print(cv_svm.std())"
   ]
  },
  {
   "cell_type": "code",
   "execution_count": 65,
   "metadata": {
    "ExecuteTime": {
     "end_time": "2020-06-17T16:20:46.384959Z",
     "start_time": "2020-06-17T16:20:45.573017Z"
    }
   },
   "outputs": [
    {
     "data": {
      "text/plain": [
       "array([0], dtype=int32)"
      ]
     },
     "execution_count": 65,
     "metadata": {},
     "output_type": "execute_result"
    }
   ],
   "source": [
    "model_svm.predict([x_train_rob.iloc[0]])"
   ]
  },
  {
   "cell_type": "code",
   "execution_count": 66,
   "metadata": {
    "ExecuteTime": {
     "end_time": "2020-06-17T16:20:46.860682Z",
     "start_time": "2020-06-17T16:20:46.814711Z"
    }
   },
   "outputs": [
    {
     "data": {
      "text/plain": [
       "0"
      ]
     },
     "execution_count": 66,
     "metadata": {},
     "output_type": "execute_result"
    }
   ],
   "source": [
    "y_train_rob.iloc[0]"
   ]
  },
  {
   "cell_type": "code",
   "execution_count": 21,
   "metadata": {
    "ExecuteTime": {
     "end_time": "2020-06-17T11:19:28.755634Z",
     "start_time": "2020-06-17T11:19:28.336893Z"
    }
   },
   "outputs": [
    {
     "data": {
      "text/plain": [
       "['my_scaler']"
      ]
     },
     "execution_count": 21,
     "metadata": {},
     "output_type": "execute_result"
    }
   ],
   "source": [
    "joblib.dump(model_svm, 'my_model')\n",
    "joblib.dump(robust, 'my_scaler')"
   ]
  },
  {
   "cell_type": "code",
   "execution_count": null,
   "metadata": {},
   "outputs": [],
   "source": []
  }
 ],
 "metadata": {
  "kernelspec": {
   "display_name": "Python 3",
   "language": "python",
   "name": "python3"
  },
  "language_info": {
   "codemirror_mode": {
    "name": "ipython",
    "version": 3
   },
   "file_extension": ".py",
   "mimetype": "text/x-python",
   "name": "python",
   "nbconvert_exporter": "python",
   "pygments_lexer": "ipython3",
   "version": "3.7.6"
  },
  "toc": {
   "base_numbering": 1,
   "nav_menu": {},
   "number_sections": true,
   "sideBar": true,
   "skip_h1_title": false,
   "title_cell": "Table of Contents",
   "title_sidebar": "Contents",
   "toc_cell": false,
   "toc_position": {},
   "toc_section_display": true,
   "toc_window_display": false
  },
  "varInspector": {
   "cols": {
    "lenName": 16,
    "lenType": 16,
    "lenVar": 40
   },
   "kernels_config": {
    "python": {
     "delete_cmd_postfix": "",
     "delete_cmd_prefix": "del ",
     "library": "var_list.py",
     "varRefreshCmd": "print(var_dic_list())"
    },
    "r": {
     "delete_cmd_postfix": ") ",
     "delete_cmd_prefix": "rm(",
     "library": "var_list.r",
     "varRefreshCmd": "cat(var_dic_list()) "
    }
   },
   "types_to_exclude": [
    "module",
    "function",
    "builtin_function_or_method",
    "instance",
    "_Feature"
   ],
   "window_display": false
  }
 },
 "nbformat": 4,
 "nbformat_minor": 4
}
